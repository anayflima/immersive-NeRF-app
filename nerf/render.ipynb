{
 "cells": [
  {
   "cell_type": "code",
   "execution_count": 8,
   "metadata": {},
   "outputs": [],
   "source": [
    "import argparse\n",
    "import os\n",
    "import time\n",
    "\n",
    "import imageio\n",
    "import numpy as np\n",
    "import torch\n",
    "import torchvision\n",
    "import yaml\n",
    "from tqdm import tqdm\n",
    "\n",
    "from nerf import (\n",
    "    CfgNode,\n",
    "    get_ray_bundle,\n",
    "    load_blender_data,\n",
    "    load_llff_data,\n",
    "    models,\n",
    "    get_embedding_function,\n",
    "    run_one_iter_of_nerf,\n",
    ")\n",
    "\n",
    "os.environ[\"CUDA_VISIBLE_DEVICES\"]=\"0\"\n",
    "device = torch.device(\"cuda\" if torch.cuda.is_available() else \"cpu\")"
   ]
  },
  {
   "cell_type": "code",
   "execution_count": 23,
   "metadata": {},
   "outputs": [],
   "source": [
    "data_dir = './cache/full_body_indoor_240/'\n",
    "images, poses, render_poses, hwf, i_split = load_blender_data(\n",
    "            data_dir,\n",
    "            half_res=False,\n",
    "            testskip=1,\n",
    "        )\n",
    "render_poses = render_poses.float().to(device)"
   ]
  },
  {
   "cell_type": "code",
   "execution_count": 17,
   "metadata": {},
   "outputs": [],
   "source": [
    "def cast_to_image(tensor, dataset_type):\n",
    "    # Input tensor is (H, W, 3). Convert to (3, H, W).\n",
    "    tensor = tensor.permute(2, 0, 1)\n",
    "    # Convert to PIL Image and then np.array (output shape: (H, W, 3))\n",
    "    img = np.array(torchvision.transforms.ToPILImage()(tensor.detach().cpu()))\n",
    "    return img\n",
    "    # # Map back to shape (3, H, W), as tensorboard needs channels first.\n",
    "    # return np.moveaxis(img, [-1], [0])"
   ]
  },
  {
   "cell_type": "code",
   "execution_count": 13,
   "metadata": {},
   "outputs": [],
   "source": [
    "cfg = './config/lego.yml'\n",
    "with open(cfg, \"r\") as f:\n",
    "    cfg_dict = yaml.load(f, Loader=yaml.FullLoader)\n",
    "    cfg = CfgNode(cfg_dict)"
   ]
  },
  {
   "cell_type": "code",
   "execution_count": 18,
   "metadata": {},
   "outputs": [],
   "source": [
    "encode_position_fn = get_embedding_function(\n",
    "        num_encoding_functions=cfg.models.coarse.num_encoding_fn_xyz,\n",
    "        include_input=cfg.models.coarse.include_input_xyz,\n",
    "        log_sampling=cfg.models.coarse.log_sampling_xyz,\n",
    "    )\n",
    "encode_direction_fn = None\n",
    "if cfg.models.coarse.use_viewdirs:\n",
    "    encode_direction_fn = get_embedding_function(\n",
    "        num_encoding_functions=cfg.models.coarse.num_encoding_fn_dir,\n",
    "        include_input=cfg.models.coarse.include_input_dir,\n",
    "        log_sampling=cfg.models.coarse.log_sampling_dir,\n",
    "    )\n",
    "model_coarse = getattr(models, cfg.models.coarse.type)(\n",
    "        num_encoding_fn_xyz=cfg.models.coarse.num_encoding_fn_xyz,\n",
    "        num_encoding_fn_dir=cfg.models.coarse.num_encoding_fn_dir,\n",
    "        include_input_xyz=cfg.models.coarse.include_input_xyz,\n",
    "        include_input_dir=cfg.models.coarse.include_input_dir,\n",
    "        use_viewdirs=cfg.models.coarse.use_viewdirs,\n",
    "    )\n",
    "model_coarse.to(device)\n",
    "model_fine = None\n",
    "if hasattr(cfg.models, \"fine\"):\n",
    "    model_fine = getattr(models, cfg.models.fine.type)(\n",
    "        num_encoding_fn_xyz=cfg.models.fine.num_encoding_fn_xyz,\n",
    "        num_encoding_fn_dir=cfg.models.fine.num_encoding_fn_dir,\n",
    "        include_input_xyz=cfg.models.fine.include_input_xyz,\n",
    "        include_input_dir=cfg.models.fine.include_input_dir,\n",
    "        use_viewdirs=cfg.models.fine.use_viewdirs,\n",
    "    )\n",
    "    model_fine.to(device)"
   ]
  },
  {
   "cell_type": "code",
   "execution_count": 19,
   "metadata": {},
   "outputs": [],
   "source": [
    "ckpt = './logs/person/checkpoint199999.ckpt'\n",
    "checkpoint = torch.load(ckpt)"
   ]
  },
  {
   "cell_type": "code",
   "execution_count": 20,
   "metadata": {},
   "outputs": [],
   "source": [
    "if \"height\" in checkpoint.keys():\n",
    "    hwf[0] = checkpoint[\"height\"]\n",
    "if \"width\" in checkpoint.keys():\n",
    "    hwf[1] = checkpoint[\"width\"]\n",
    "if \"focal_length\" in checkpoint.keys():\n",
    "    hwf[2] = checkpoint[\"focal_length\"]"
   ]
  },
  {
   "cell_type": "code",
   "execution_count": 24,
   "metadata": {},
   "outputs": [
    {
     "name": "stderr",
     "output_type": "stream",
     "text": [
      " 10%|█         | 4/40 [00:28<04:16,  7.13s/it]\n"
     ]
    },
    {
     "ename": "KeyboardInterrupt",
     "evalue": "",
     "output_type": "error",
     "traceback": [
      "\u001b[0;31m---------------------------------------------------------------------------\u001b[0m",
      "\u001b[0;31mKeyboardInterrupt\u001b[0m                         Traceback (most recent call last)",
      "\u001b[1;32m/home/jjulin/HackMIT/nerf-pytorch/render.ipynb Cell 8'\u001b[0m in \u001b[0;36m<cell line: 1>\u001b[0;34m()\u001b[0m\n\u001b[1;32m     <a href='vscode-notebook-cell://ssh-remote%2Bgenos.ri.cmu.edu/home/jjulin/HackMIT/nerf-pytorch/render.ipynb#ch0000004vscode-remote?line=20'>21</a>\u001b[0m rgb \u001b[39m=\u001b[39m rgb_fine \u001b[39mif\u001b[39;00m rgb_fine \u001b[39mis\u001b[39;00m \u001b[39mnot\u001b[39;00m \u001b[39mNone\u001b[39;00m \u001b[39melse\u001b[39;00m rgb_coarse\n\u001b[1;32m     <a href='vscode-notebook-cell://ssh-remote%2Bgenos.ri.cmu.edu/home/jjulin/HackMIT/nerf-pytorch/render.ipynb#ch0000004vscode-remote?line=21'>22</a>\u001b[0m savefile \u001b[39m=\u001b[39m os\u001b[39m.\u001b[39mpath\u001b[39m.\u001b[39mjoin(\u001b[39m'\u001b[39m\u001b[39m./rendered/\u001b[39m\u001b[39m'\u001b[39m, \u001b[39mf\u001b[39m\u001b[39m\"\u001b[39m\u001b[39m{\u001b[39;00mi\u001b[39m:\u001b[39;00m\u001b[39m04d\u001b[39m\u001b[39m}\u001b[39;00m\u001b[39m.png\u001b[39m\u001b[39m\"\u001b[39m)\n\u001b[0;32m---> <a href='vscode-notebook-cell://ssh-remote%2Bgenos.ri.cmu.edu/home/jjulin/HackMIT/nerf-pytorch/render.ipynb#ch0000004vscode-remote?line=22'>23</a>\u001b[0m imageio\u001b[39m.\u001b[39;49mimwrite(\n\u001b[1;32m     <a href='vscode-notebook-cell://ssh-remote%2Bgenos.ri.cmu.edu/home/jjulin/HackMIT/nerf-pytorch/render.ipynb#ch0000004vscode-remote?line=23'>24</a>\u001b[0m     savefile, cast_to_image(rgb[\u001b[39m.\u001b[39;49m\u001b[39m.\u001b[39;49m\u001b[39m.\u001b[39;49m, :\u001b[39m3\u001b[39;49m], cfg\u001b[39m.\u001b[39;49mdataset\u001b[39m.\u001b[39;49mtype\u001b[39m.\u001b[39;49mlower())\n\u001b[1;32m     <a href='vscode-notebook-cell://ssh-remote%2Bgenos.ri.cmu.edu/home/jjulin/HackMIT/nerf-pytorch/render.ipynb#ch0000004vscode-remote?line=24'>25</a>\u001b[0m )\n",
      "File \u001b[0;32m~/.conda/envs/nerf_py/lib/python3.9/site-packages/imageio/v2.py:239\u001b[0m, in \u001b[0;36mimwrite\u001b[0;34m(uri, im, format, **kwargs)\u001b[0m\n\u001b[1;32m    237\u001b[0m imopen_args[\u001b[39m\"\u001b[39m\u001b[39mlegacy_mode\u001b[39m\u001b[39m\"\u001b[39m] \u001b[39m=\u001b[39m \u001b[39mTrue\u001b[39;00m\n\u001b[1;32m    238\u001b[0m \u001b[39mwith\u001b[39;00m imopen(uri, \u001b[39m\"\u001b[39m\u001b[39mwi\u001b[39m\u001b[39m\"\u001b[39m, \u001b[39m*\u001b[39m\u001b[39m*\u001b[39mimopen_args) \u001b[39mas\u001b[39;00m file:\n\u001b[0;32m--> 239\u001b[0m     \u001b[39mreturn\u001b[39;00m file\u001b[39m.\u001b[39;49mwrite(im, \u001b[39m*\u001b[39;49m\u001b[39m*\u001b[39;49mkwargs)\n",
      "File \u001b[0;32m~/.conda/envs/nerf_py/lib/python3.9/site-packages/imageio/core/legacy_plugin_wrapper.py:184\u001b[0m, in \u001b[0;36mLegacyPlugin.write\u001b[0;34m(self, ndimage, **kwargs)\u001b[0m\n\u001b[1;32m    182\u001b[0m \u001b[39mwith\u001b[39;00m \u001b[39mself\u001b[39m\u001b[39m.\u001b[39mlegacy_get_writer(\u001b[39m*\u001b[39m\u001b[39m*\u001b[39mkwargs) \u001b[39mas\u001b[39;00m writer:\n\u001b[1;32m    183\u001b[0m     \u001b[39mif\u001b[39;00m \u001b[39mself\u001b[39m\u001b[39m.\u001b[39m_request\u001b[39m.\u001b[39mmode\u001b[39m.\u001b[39mimage_mode \u001b[39min\u001b[39;00m \u001b[39m\"\u001b[39m\u001b[39miv\u001b[39m\u001b[39m\"\u001b[39m:\n\u001b[0;32m--> 184\u001b[0m         writer\u001b[39m.\u001b[39;49mappend_data(ndimage)\n\u001b[1;32m    185\u001b[0m     \u001b[39melse\u001b[39;00m:\n\u001b[1;32m    186\u001b[0m         \u001b[39mif\u001b[39;00m \u001b[39mlen\u001b[39m(ndimage) \u001b[39m==\u001b[39m \u001b[39m0\u001b[39m:\n",
      "File \u001b[0;32m~/.conda/envs/nerf_py/lib/python3.9/site-packages/imageio/core/format.py:589\u001b[0m, in \u001b[0;36mFormat.Writer.append_data\u001b[0;34m(self, im, meta)\u001b[0m\n\u001b[1;32m    587\u001b[0m im \u001b[39m=\u001b[39m asarray(im)\n\u001b[1;32m    588\u001b[0m \u001b[39m# Call\u001b[39;00m\n\u001b[0;32m--> 589\u001b[0m \u001b[39mreturn\u001b[39;00m \u001b[39mself\u001b[39;49m\u001b[39m.\u001b[39;49m_append_data(im, total_meta)\n",
      "File \u001b[0;32m~/.conda/envs/nerf_py/lib/python3.9/site-packages/imageio/plugins/pillow_legacy.py:460\u001b[0m, in \u001b[0;36mPNGFormat.Writer._append_data\u001b[0;34m(self, im, meta)\u001b[0m\n\u001b[1;32m    458\u001b[0m \u001b[39melse\u001b[39;00m:\n\u001b[1;32m    459\u001b[0m     im \u001b[39m=\u001b[39m image_as_uint(im, bitdepth\u001b[39m=\u001b[39m\u001b[39m8\u001b[39m)\n\u001b[0;32m--> 460\u001b[0m PillowFormat\u001b[39m.\u001b[39;49mWriter\u001b[39m.\u001b[39;49m_append_data(\u001b[39mself\u001b[39;49m, im, meta)\n",
      "File \u001b[0;32m~/.conda/envs/nerf_py/lib/python3.9/site-packages/imageio/plugins/pillow_legacy.py:382\u001b[0m, in \u001b[0;36mPillowFormat.Writer._append_data\u001b[0;34m(self, im, meta)\u001b[0m\n\u001b[1;32m    380\u001b[0m \u001b[39mif\u001b[39;00m \u001b[39m\"\u001b[39m\u001b[39mbits\u001b[39m\u001b[39m\"\u001b[39m \u001b[39min\u001b[39;00m \u001b[39mself\u001b[39m\u001b[39m.\u001b[39m_meta:\n\u001b[1;32m    381\u001b[0m     img \u001b[39m=\u001b[39m img\u001b[39m.\u001b[39mquantize()  \u001b[39m# Make it a P image, so bits arg is used\u001b[39;00m\n\u001b[0;32m--> 382\u001b[0m img\u001b[39m.\u001b[39;49msave(\u001b[39mself\u001b[39;49m\u001b[39m.\u001b[39;49m_fp, \u001b[39mformat\u001b[39;49m\u001b[39m=\u001b[39;49m\u001b[39mself\u001b[39;49m\u001b[39m.\u001b[39;49mformat\u001b[39m.\u001b[39;49mplugin_id, \u001b[39m*\u001b[39;49m\u001b[39m*\u001b[39;49m\u001b[39mself\u001b[39;49m\u001b[39m.\u001b[39;49m_meta)\n\u001b[1;32m    383\u001b[0m save_pillow_close(img)\n",
      "File \u001b[0;32m~/.conda/envs/nerf_py/lib/python3.9/site-packages/PIL/Image.py:2320\u001b[0m, in \u001b[0;36mImage.save\u001b[0;34m(self, fp, format, **params)\u001b[0m\n\u001b[1;32m   2317\u001b[0m         fp \u001b[39m=\u001b[39m builtins\u001b[39m.\u001b[39mopen(filename, \u001b[39m\"\u001b[39m\u001b[39mw+b\u001b[39m\u001b[39m\"\u001b[39m)\n\u001b[1;32m   2319\u001b[0m \u001b[39mtry\u001b[39;00m:\n\u001b[0;32m-> 2320\u001b[0m     save_handler(\u001b[39mself\u001b[39;49m, fp, filename)\n\u001b[1;32m   2321\u001b[0m \u001b[39mexcept\u001b[39;00m \u001b[39mException\u001b[39;00m:\n\u001b[1;32m   2322\u001b[0m     \u001b[39mif\u001b[39;00m open_fp:\n",
      "File \u001b[0;32m~/.conda/envs/nerf_py/lib/python3.9/site-packages/PIL/PngImagePlugin.py:1374\u001b[0m, in \u001b[0;36m_save\u001b[0;34m(im, fp, filename, chunk, save_all)\u001b[0m\n\u001b[1;32m   1372\u001b[0m     _write_multiple_frames(im, fp, chunk, rawmode)\n\u001b[1;32m   1373\u001b[0m \u001b[39melse\u001b[39;00m:\n\u001b[0;32m-> 1374\u001b[0m     ImageFile\u001b[39m.\u001b[39;49m_save(im, _idat(fp, chunk), [(\u001b[39m\"\u001b[39;49m\u001b[39mzip\u001b[39;49m\u001b[39m\"\u001b[39;49m, (\u001b[39m0\u001b[39;49m, \u001b[39m0\u001b[39;49m) \u001b[39m+\u001b[39;49m im\u001b[39m.\u001b[39;49msize, \u001b[39m0\u001b[39;49m, rawmode)])\n\u001b[1;32m   1376\u001b[0m \u001b[39mif\u001b[39;00m info:\n\u001b[1;32m   1377\u001b[0m     \u001b[39mfor\u001b[39;00m info_chunk \u001b[39min\u001b[39;00m info\u001b[39m.\u001b[39mchunks:\n",
      "File \u001b[0;32m~/.conda/envs/nerf_py/lib/python3.9/site-packages/PIL/ImageFile.py:518\u001b[0m, in \u001b[0;36m_save\u001b[0;34m(im, fp, tile, bufsize)\u001b[0m\n\u001b[1;32m    515\u001b[0m \u001b[39mif\u001b[39;00m exc:\n\u001b[1;32m    516\u001b[0m     \u001b[39m# compress to Python file-compatible object\u001b[39;00m\n\u001b[1;32m    517\u001b[0m     \u001b[39mwhile\u001b[39;00m \u001b[39mTrue\u001b[39;00m:\n\u001b[0;32m--> 518\u001b[0m         l, s, d \u001b[39m=\u001b[39m encoder\u001b[39m.\u001b[39;49mencode(bufsize)\n\u001b[1;32m    519\u001b[0m         fp\u001b[39m.\u001b[39mwrite(d)\n\u001b[1;32m    520\u001b[0m         \u001b[39mif\u001b[39;00m s:\n",
      "\u001b[0;31mKeyboardInterrupt\u001b[0m: "
     ]
    }
   ],
   "source": [
    "for i, pose in enumerate(tqdm(render_poses)):\n",
    "        start = time.time()\n",
    "        rgb = None, None\n",
    "        disp = None, None\n",
    "        with torch.no_grad():\n",
    "            pose = pose[:3, :4]\n",
    "            ray_origins, ray_directions = get_ray_bundle(hwf[0], hwf[1], hwf[2], pose)\n",
    "            rgb_coarse, disp_coarse, _, rgb_fine, disp_fine, _ = run_one_iter_of_nerf(\n",
    "                hwf[0],\n",
    "                hwf[1],\n",
    "                hwf[2],\n",
    "                model_coarse,\n",
    "                model_fine,\n",
    "                ray_origins,\n",
    "                ray_directions,\n",
    "                cfg,\n",
    "                mode=\"validation\",\n",
    "                encode_position_fn=encode_position_fn,\n",
    "                encode_direction_fn=encode_direction_fn,\n",
    "            )\n",
    "            rgb = rgb_fine if rgb_fine is not None else rgb_coarse\n",
    "            savefile = os.path.join('./rendered/', f\"{i:04d}.png\")\n",
    "            imageio.imwrite(\n",
    "                savefile, cast_to_image(rgb[..., :3], cfg.dataset.type.lower())\n",
    "            )"
   ]
  }
 ],
 "metadata": {
  "kernelspec": {
   "display_name": "Python 3.9.13 ('nerf_py')",
   "language": "python",
   "name": "python3"
  },
  "language_info": {
   "codemirror_mode": {
    "name": "ipython",
    "version": 3
   },
   "file_extension": ".py",
   "mimetype": "text/x-python",
   "name": "python",
   "nbconvert_exporter": "python",
   "pygments_lexer": "ipython3",
   "version": "3.9.13"
  },
  "orig_nbformat": 4,
  "vscode": {
   "interpreter": {
    "hash": "0bb4c1bd7dbf8ab09584e2a8c2d0cff122c211582665a54ebf1344ef7d8a0125"
   }
  }
 },
 "nbformat": 4,
 "nbformat_minor": 2
}
